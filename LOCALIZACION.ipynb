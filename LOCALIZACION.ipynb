{
  "nbformat": 4,
  "nbformat_minor": 0,
  "metadata": {
    "colab": {
      "name": "LOCALIZACION.ipynb",
      "provenance": [],
      "collapsed_sections": [
        "Se1M1aRXFHI6",
        "YCX8F82dpfM8",
        "iw7yvPGFwGX4",
        "XYlS8YgF-gql",
        "K14FVgOtChnB"
      ],
      "include_colab_link": true
    },
    "kernelspec": {
      "name": "python3",
      "display_name": "Python 3"
    },
    "language_info": {
      "name": "python"
    }
  },
  "cells": [
    {
      "cell_type": "markdown",
      "metadata": {
        "id": "view-in-github",
        "colab_type": "text"
      },
      "source": [
        "<a href=\"https://colab.research.google.com/github/EGaravitoHernandez/Calculo-1/blob/main/LOCALIZACION.ipynb\" target=\"_parent\"><img src=\"https://colab.research.google.com/assets/colab-badge.svg\" alt=\"Open In Colab\"/></a>"
      ]
    },
    {
      "cell_type": "markdown",
      "metadata": {
        "id": "cvL-FGkgE1-T"
      },
      "source": [
        "# <font color=\"red\"><center>LOCALIZACIÓN CONTINUA UNIDIMENSIONAL</center></font>\n",
        "\n"
      ]
    },
    {
      "cell_type": "markdown",
      "metadata": {
        "id": "Se1M1aRXFHI6"
      },
      "source": [
        "## <font color=\"blue\">PLANTEAMIENTO DEL PROBLEMA</font>"
      ]
    },
    {
      "cell_type": "markdown",
      "metadata": {
        "id": "oEA1OKVRFclq"
      },
      "source": [
        "<H3><b>Introducción</H3></b>\n",
        "\n",
        "Los problemas unidimensionales hacen referencia al uso de una sola coordenada (en el sistema de ejes coordenados) para representar el desplazamiento que se genera en el transporte de las unidades de carga a las que se haga referencia dentro del problema de localización. Ejemplos sencillos pueden ser la localización de un puerto sobre la rivera de un rio, o la ubicación de la central de una unidad movil de atención de emergencias sobre una vía terrestre.\n",
        "\n",
        "<H3><b>Estructura del modelo</H3></b>\n",
        "\n",
        "Partiendo de un problema de localización de un elemento, que debe atender la demanda de N \"*clientes*\", la definición de la estructura del modelo, se puede partir de su representación gráfica, en la que considerando un solo eje (coordenada) podemos representar la ubicación de los \"*clientes*\" a lo largo del eje en las coordenadas que correspondan a su ubicación, tal como se observa en la siguiente figura\n",
        "\n",
        "<center><img src= https://raw.githubusercontent.com/EGaravitoHernandez/DSP-UIS/main/MODELO_GRAFICO.jpg></center>\n",
        "\n",
        "<center>Figura 1: Representación gráfica localización unidimensional</center>\n",
        "\n",
        "<p> donde: </p>\n",
        "$x_i$ = Alternativa \"i-esima\" de localización del elemento. Es la incógnita que se debe resolver.\n",
        "\n",
        "Considerando los parámetros, los cuales corresponden a la información de los \"*clientes*\" se definen cuatro vectores, presentados a continuación con las respectivas unidades que corresponde a cada parámetro:\n",
        "\n",
        "<p>$A:$ Coordenadas (en el eje x) donde se localizan los clientes</p>\n",
        "\n",
        "><p>=$[a_1, a_2, ... a_j, ... , a_N]$</p>\n",
        ">dado en: $\\begin{pmatrix}Unidades&de&distancia\\end{pmatrix}$, ej: $km$\n",
        "\n",
        "<p>$D:$ Demanda de cada uno de los clientes</p>\n",
        "\n",
        "><p>=$[D_1, D_2, ...,D_j,...,D_N]$</p>\n",
        ">$\\frac{Unidades-de-carga}{Unidad-de-tiempo}$, ej: $\\frac{Toneladas}{mes}$\n",
        "\n",
        "<p>$Cu:$ Costo unitario de trasporte para cada uno de los clientes.</p>\n",
        "\n",
        "><p>=$[Cu_1, Cu_2,...,Cu_j,...,Cu_N]$</p>\n",
        ">$\\frac{Unidades-monetarias}{Unidad-de-istancia * unidades de carga}$, ej: $\\frac{$}{km * Tonelada}$\n",
        "\n",
        "<p>$P:$ Ponderación (o peso relativo) de cada uno de los clientes\n",
        "\n",
        "><p>=$[P_1, P_2,...,P_j,...,P_N]$,  es adimensional.</p>\n",
        "\n",
        "\n"
      ]
    },
    {
      "cell_type": "markdown",
      "metadata": {
        "id": "YCX8F82dpfM8"
      },
      "source": [
        "## <font color=\"blue\">MODELAMIENTO MATEMÁTICO</font>\n"
      ]
    },
    {
      "cell_type": "markdown",
      "metadata": {
        "id": "OLGNcnMPpqXU"
      },
      "source": [
        "A partir del planteamiento representado en la figura 1, el costo total de atender a todos los clientes desde la ubicación arbitraria $x_i$ se calcula al sumar el costo de atender a cada uno de estos. El costo de atender a un cliente $j$ sería el producto de la distancia que se debe recorrer desde la ubicación $x_i$ hasta la ubicación de ese cliente {$a_j$}, su  costo unitario {$Cu_j$}, su demanda {$D_j$}, y si existiera, su peso relativo o ponderación {$P_j$}. Sin embargo, se dan por lo menos dos posibilidades en cuanto a la estructura definitiva del modelo, considerando la relación entre la distancia recorrida y el costo total:\n",
        "\n",
        " <H3><b>Relación Lineal Costo Distancia.</H3></b>\n",
        "\n",
        "Este modelo se usa en aquellos problemas en los que el objetivo se relaciona direcatamente con los costos de fletes, lo que se traduce en la reducción del costo total generado por el transporte. Esto se explica en el hecho de que las empresas transportadoras, o el sistema propio de transporte define su modelo (básico) de costos a partir de los parámetros considerados, y una función que relaciona de manera lineal la distancia recorrida con el costo total del desplazamiento, como se presenta a continuación \n",
        "\n",
        "Considerando que la distancia desde la coordenada $x_i$ al cliente ubicado en $a_j$ equivale al ***valor absoluto*** de la diferencia de las dos coordenadas: $d_{ij}=[x_i-a_j]$, el costo de atender al cliente $j$, desde la coordenada $i$ sería, si se considera el modelo de ***relación lineal costo distancia***: \n",
        "\n",
        ">$CT_{ij}=|x_i-a_j|*Cu_j*D_j*Pj$\n",
        "\n",
        "El costo total, de atender todos los clientes desde $x_i$ sería:\n",
        "\n",
        ">$CT_i=\\sum_{j=1}^N [x_i-a_j]*Cu_j*D_j*P_j$; en  $\\frac{Unidades. monetarias}{Unidad. de. tiempo}$\n",
        "\n",
        "Es común simplificar la expresión anterior, utilizando un parámetro($W_j$) que represente la combinación lineal del costo unitario, la demanda y la ponderación para cada cliente, de manera que el costo total quedaría:\n",
        ">$CT_i=\\sum_{j=1}^N [x_i-a_j]*W_j$ \n",
        "\n",
        "<H3><b>Relación Cuadrática Costo Distancia.</H3></b>\n",
        "\n",
        "En este modelo, la distancia se eleva al cuadrado para calcular el costo. La implicación directa, se da en que las coordenadas y cargas ($W_j$) de los clientes afectan directamente la solución; esto es, que si un cliente cambia de posición, la solución se ve afectada de manera directa. Este tipo de comportamiento es útil en casos en los que el cálculo del valor de la función objetivo ($CT_i$) no es realmente lo que se busca, y se orienta más a objetivos como la minimización de la distancia total (ponerada por la carga), o, considerando la velocidad, la minimización del tiempo total de respuesta (ponderado por la carga)\n",
        "\n",
        "En este caso, atender el cliente ubicado en $a_j$ desde $x_i$ generaría un costo igual a:\n",
        "\n",
        ">$CT_{ij}=(x_i-a_j)^2*Cu_j*D_j*Pj$\n",
        "\n",
        "Y el costo total, atendiendo a todos los $N$ clientres sería:\n",
        "\n",
        ">$CT_i=\\sum_{j=1}^N (x_i-a_j)^2*Cu_j*D_j*P_j$\n",
        "\n",
        "o de manera simplificada:\n",
        ">$CT_i=\\sum_{j=1}^N (x_i-a_j)^2*W_j$\n",
        "\n",
        "Resulta sencillo resolver ambos modelos, con conocimientos básicos de optimización, o utilizando otras estrategias como la heurística de **MEDIANA SIMPLE** para el caso del modelo lineal o el cálculo del **CENTROIDE** en el caso de la relación cuadrática. Sin embargo, si no se cuenta con las bases, siempre existirá la posibilidad de utilizar técnicas computacionales, como la de simular la localización en muchos lugares comparando los costos generados y dejando como solución el mejor de todos los que se han probado, en lo que podría denominarse algoritmo de ***Búsqueda Exhaustiva*** o ***de Radar*** (Fuerza bruta)."
      ]
    },
    {
      "cell_type": "markdown",
      "metadata": {
        "id": "iw7yvPGFwGX4"
      },
      "source": [
        "##<font color=\"blue\">ALGORITMO DE BÚSQUEDA EXHAUSTIVA O RADAR</font>\n",
        "La estratégia de búsqueda requiere que el modelador defina un $\\Delta$, o paso, con el cual se define la cantidad de puntos ($x_i$) que se van a probar.\n",
        "Seleccione el valor de este  $\\Delta$ y el modelo que quiere resolver (lineal o cuadrático) antes de ejecutar al código "
      ]
    },
    {
      "cell_type": "markdown",
      "metadata": {
        "id": "JO4JPEUpRD6H"
      },
      "source": [
        "DEFINIR LOS PARÁMETROS DE LOS CLIENTES"
      ]
    },
    {
      "cell_type": "code",
      "metadata": {
        "id": "9Jy6myEuRKAf",
        "colab": {
          "base_uri": "https://localhost:8080/"
        },
        "outputId": "1abfa24d-7946-436d-a20f-a28fcfce0b66"
      },
      "source": [
        "#@title Digite los parámetros separados por coma (,) { run: \"auto\", display-mode: \"form\" }\n",
        "import re\n",
        "import numpy as np;\n",
        "#coordenadas en X\n",
        "aj = \"5, -40, 50, 150, 75\\\"\" #@param {type:\"string\"}\n",
        "Ax=[float(NK)for NK in re.findall(r'-?\\d+\\.?\\d*', aj)]\n",
        "a=np.array(Ax)\n",
        "#Demanda\n",
        "Dj = \"30, 15, 20, 20, 40\\\"\" #@param {type:\"string\"}\n",
        "Dx=[float(NK)for NK in re.findall(r'-?\\d+\\.?\\d*', Dj)]\n",
        "D=np.array(Dx)\n",
        "#Costo unitario\n",
        "Cuj = \"15, 15, 15, 15, 15\\\"\" #@param {type:\"string\"}\n",
        "Cux=[float(NK)for NK in re.findall(r'-?\\d+\\.?\\d*', Cuj)]\n",
        "Cu=np.array(Cux)\n",
        "#Ponderación\n",
        "Pj = \"1, 1, 1, 1, 1\\\"\" #@param {type:\"string\"}\n",
        "Px=[float(NK)for NK in re.findall(r'-?\\d+\\.?\\d*', Pj)]\n",
        "P=np.array(Px)\n",
        "#Cálculo Peso W\n",
        "W=D*Cu*P\n",
        "print(\"aj=\",a)\n",
        "print(\"Dj=\",D)\n",
        "print(\"Cuj=\",Cu)\n",
        "print(\"Pj=\",P)\n",
        "print(\"W=\",W)\n"
      ],
      "execution_count": null,
      "outputs": [
        {
          "output_type": "stream",
          "name": "stdout",
          "text": [
            "aj= [  5. -40.  50. 150.  75.]\n",
            "Dj= [30. 15. 20. 20. 40.]\n",
            "Cuj= [15. 15. 15. 15. 15.]\n",
            "Pj= [1. 1. 1. 1. 1.]\n",
            "W= [450. 225. 300. 300. 600.]\n"
          ]
        }
      ]
    },
    {
      "cell_type": "markdown",
      "metadata": {
        "id": "eGC8R13xRKbf"
      },
      "source": [
        "DEFINIR TIPO DE MODELO (LINEAL / CUADRÁTICO) Y PARÁMETRO DELTA"
      ]
    },
    {
      "cell_type": "code",
      "metadata": {
        "id": "vudfWPptV-Yi",
        "colab": {
          "base_uri": "https://localhost:8080/"
        },
        "outputId": "1521090c-7708-481a-95a3-0044e69a97dd"
      },
      "source": [
        "#@title Seleccionar Parámetros. {run: \"auto\", display-mode: \"form\"  }\n",
        "DELTA =  1#@param {type:\"number\"}\n",
        "print('Seleccionó Delta=', DELTA)\n",
        "Modelo = \"Lineal\" #@param [\"Lineal\", \"Cuadratico\"]\n",
        "print('Se resolvera considerando relación ', Modelo)\n",
        "if Modelo==\"Lineal\":\n",
        "  MOD=1\n",
        "else: MOD=2"
      ],
      "execution_count": null,
      "outputs": [
        {
          "output_type": "stream",
          "name": "stdout",
          "text": [
            "Seleccionó Delta= 1\n",
            "Se resolvera considerando relación  Lineal\n"
          ]
        }
      ]
    },
    {
      "cell_type": "markdown",
      "metadata": {
        "id": "_-Xk7tpEXRE9"
      },
      "source": [
        "### Correr Algoritmo."
      ]
    },
    {
      "cell_type": "code",
      "metadata": {
        "id": "9Epl40HE0ZIH",
        "colab": {
          "base_uri": "https://localhost:8080/",
          "height": 317
        },
        "outputId": "96014afe-c15c-4f2e-c0e6-f27c10d3244e"
      },
      "source": [
        "import numpy as np;\n",
        "from pylab import *;\n",
        "import matplotlib.pyplot as plt;\n",
        "import html\n",
        "amax=max(a)\n",
        "amin=min(a)\n",
        "i=0\n",
        "j=1\n",
        "#DELTA=float(input(\"Digite el DELTA que desea usar: \"))\n",
        "dat=np.arange(amin,amax,DELTA)\n",
        "Cti=np.zeros(len(dat))\n",
        "if MOD==1:\n",
        "    for x in dat:\n",
        "      d=abs(x-a)\n",
        "      Cti[i]=(sum(d*W))\n",
        "      i+=1\n",
        "else:\n",
        "    for x in dat:\n",
        "      d=abs(x-a)\n",
        "      Cti[i]=(sum(d**2*W))\n",
        "      i+=1\n",
        "PosCto=np.where(Cti == np.amin(Cti))\n",
        "CTo=np.amin(Cti)\n",
        "Xo=dat[PosCto]\n",
        "print(\"SOLUCIÓN\")\n",
        "print(\"COORDENADA:\", Xo[0])\n",
        "print(\"COSTO MÍNIMO:\", CTo)\n",
        "plt.plot(dat,Cti, linestyle=\"-.\", linewidth=2)\n",
        "plt.show()\n",
        " \n",
        "#!pwd"
      ],
      "execution_count": null,
      "outputs": [
        {
          "output_type": "stream",
          "name": "stdout",
          "text": [
            "SOLUCIÓN\n",
            "COORDENADA: 50.0\n",
            "COSTO MÍNIMO: 85500.0\n"
          ]
        },
        {
          "output_type": "display_data",
          "data": {
            "image/png": "[encoded data removed]",
            "text/plain": [
              "<Figure size 432x288 with 1 Axes>"
            ]
          },
          "metadata": {
            "needs_background": "light"
          }
        }
      ]
    },
    {
      "cell_type": "markdown",
      "metadata": {
        "id": "XrYCqzVTZwk1"
      },
      "source": [
        "# <font color=\"red\"><center>LOCALIZACIÓN CONTINUA BIDIMENSIONAL</center></font>"
      ]
    },
    {
      "cell_type": "markdown",
      "metadata": {
        "id": "XYlS8YgF-gql"
      },
      "source": [
        "## <font color=\"blue\">PLANTEAMIENTO DEL PROBLEMA</font>"
      ]
    },
    {
      "cell_type": "markdown",
      "metadata": {
        "id": "03dsqtLCZ8rG"
      },
      "source": [
        "***Introducción***\n",
        "\n",
        "Se relaciona con problemas de localización sobre terrenos abiertos, sobre áreas marítimas, localización en zonas urbanas y en general, la ubiación que requiera movimientos sobre superficies, es decir, en dos dimensiones ($x$ , $y$).\n",
        "Al considerar dos coordenadas, se generan diversos modelos basados en la combinación de dos factores: **<font color=\"green\">la relacion Costo - Distancia </font>** (lineal o cuadrática) y la <font color=\"green\">**trayectoria**</font> dado que siendo dos coordenadas, el desplazamiento en el espacio bidimensional se puede dar de diferentes maneras, de las cuales, solo se considerarán para este problema: **rectangular**: cuando el desplazamiento se da siguiendo cada eje, y la distancia recorrida corresponde a la suma de las distancias en **$x$** y en **$y$**; además, la trayectoria **euclideana** o **rectilíena** en la cual la distancia total recorrida equivale a la hipotenusa (ver figura 2):\n",
        "\n",
        "<center><img src=\"https://drive.google.com/uc?id=1ZXuTrAAao9iHQx_VAEkGC8Fd2lJqET2d\" width=\"450\" height=\"200\"/></center>\n",
        "<center>Figura 2. Trayectorias básicas en espacio 2-D</center>\n",
        "\n",
        "***Estructura general del modelo***\n",
        "\n",
        "El planteamiento general se puede definir a partir de un problema de localización de un elemento que atiende los requerimientos de N clientes,cada uno de ellos ubicados en un par coordenado [a,b] que corresponden a la ubicación en el eje $x$ y en el eje $y$ respectivamente. Definiendo una localización arbitraria [$x_i$ ; $y_k$] para elemento a ubidar, se representaría grpaficamente de la siguiente manera (ver figura 3):\n",
        "\n",
        "<center><img src=\"https://drive.google.com/uc?id=1-JzP1B621n29j7RZ6Bq1a-0XPrkfWe5s\" width=\"450\" height=\"280\"/></center>\n",
        "<center>Figura 3. Representación gráfca localización bidimensional</center>\n",
        "\n",
        "Siguiendo la misma estructura planteada en el caso de localización unidimensional, se tendrían dos incógnitas que resolver, considerando que:\n",
        "\n",
        "<p>$x_i$ = Alternativa \"$i-ésima$\" de localización en el eje x</p>\n",
        "$y_k$ = Alternativa \"$k-ésima$\" de localización en el eje y\n",
        "\n",
        "De manera análoga, tal como se representa en la figurana tenrior, cada cliente genera los siguientes parámetros:\n",
        "\n",
        "<p>$a_j$ = localización en el eje $x$ del cliente \"$j-ésimo$\"</p>\n",
        "<p>$b_j$ = localización en el eje $y$ del cliente \"$j-ésimo$\"</p>\n",
        "<p>$W_j$ = $Cu_j*D_j*P_j$ {comunmente denominado \"carga\" o \"peso\" generado por cada cliente}"
      ]
    },
    {
      "cell_type": "markdown",
      "metadata": {
        "id": "K14FVgOtChnB"
      },
      "source": [
        "## <font color=\"blue\">MODELAMIENTO MATEMÁTICO</font>"
      ]
    },
    {
      "cell_type": "markdown",
      "metadata": {
        "id": "N-aliEEzCi1o"
      },
      "source": [
        "Con planteamiento representado en la figura 3, el costo total de atender a todos los clientes desde la ubicación arbitraria [$x_i$ ; $y_k$] se calcula al sumar el costo de atender a cada uno de los N clientes. El costo de atender a un cliente $j$ sería el producto de la distancia que se debe recorrer desde la ubicación [$x_i$ ; $y_k$] hasta la ubicación de ese cliente [$a_j$ ; $b_j$] por el valor del \"*peso*\" de dicho cliente [$W_j$] (equivalente a la combinación lineal de su  costo unitario {$Cu_j$}, su demanda {$D_j$}, y si existiera, su peso relativo o ponderación {$P_j$}). \n",
        "\n",
        "El modelo general para el cálculo del costo total, considerando relación lineal $costo-distancia$ sería:\n",
        ">$CT_i=\\sum_{j=1}^N (d_{ik-j})*W_j$\n",
        "\n",
        "con $(d_{ik-j})$ = distancia desde la coordenada [$x_i$ ; $y_k$] hasta el cliente $j$ \n",
        "\n",
        "Para el caso de relación $cuadrática$ sería:\n",
        ">$CT_i=\\sum_{j=1}^N (d_{ik-j})^2*W_j$\n",
        "\n",
        "Como se ha mencionado, la distancia dependerá de la trayectoria que se considere en el desplazamiento:\n",
        "\n",
        "<H3><b>Trayectoria Rectangualar</b></h3>\n",
        "\n",
        "Con el desplazamiento en esta trayectoria, la distancia recorrida equivale a la suma de los desplazamientos por cada eje, es decir\n",
        "$d_{ij}=d_x+d_y$\n",
        "\n",
        "<center><img src=\"https://drive.google.com/uc?id=1-Kr7TRlwS5abSVXICFoQ2z8DYGo9bSPn\" width=\"450\" height=\"280\"/></center>\n",
        "<center>Figura 4. Distancia en trayectoria rectangular</center>\n",
        "de manera que:\n",
        "\n",
        "$d_{ik-j}=|x_i-a_j|+|y_k-b_j|$\n",
        "\n",
        "<H3><b>Trayectoria Euclidiana o Rectilinea</H3></b>\n",
        "\n",
        "En este caso, dado el desplazamiento rectilíneo la distancia recorrida corresponde a la hipotenusa generada por las coordenadas en $x$ y $y$ desde el origen (alternativa $ik-ésima$ de localización) hasta el destino (cada uno de los clientes).\n",
        "\n",
        "<center><img src=\"https://drive.google.com/uc?id=1-L9KlAkoZoAY3Gnal_OYwbzcqNdVQdj9\" width=\"450\" height=\"280\"/></center>\n",
        "<center>Figura 5. Distancia en trayectoria euclidiana o rectilínea</center>\n",
        "\n",
        "de manera que la distancia sería:\n",
        "\n",
        "$d_{ik-j}=\\sqrt{(x_i-a_j)^2+(y_k-b_j)^2}$\n",
        "\n",
        "<H3><b>Modelos Matemáticos</H3></b>\n",
        "\n",
        "Dada la combinación de las dos trayectorias consideradas, y los dos tipos de relación costo-distancia, se tiene los siguientes modelos (ver figura 6)\n",
        "<center><img src=\"https://drive.google.com/uc?id=1-MpuHE9ret0lSfpEi_pb_1Kzmoj__7n2\" width=\"750\" height=\"250\"/></center>\n",
        "<center>Figura 6. Modelos matemáticos Bidimensional - Continuo </center>\n",
        "\n",
        "El objetivo se orienta a la minimización de la función de costos, para lo que se puede usar cualquier herramienta computacional de optimización (GAMS, Solver-EXCEL, Gurobi, Matlab, Pyton etc.). De igual manera, dada la estructura de dos modelos en particular, es posible aplicar las mismas estrategias que en el caso unidimensional en la medida en que, al aplicar el tratamiento matemático a las funciones, éstas se independizan por cada uno de los ejes $x$ , $y$. Estos modelos corresponde a:\n",
        "\n",
        "<i><b>Relación lineal costo-distancia con trayectoria rectangular</b></i>\n",
        "\n",
        "La función de costos en este caso es:\n",
        "\n",
        ">$CT_i=\\sum_{j=1}^N (|x_i-a_j|+|y_k-b_j|)*W_j$ \n",
        "\n",
        "Lo cual, aplicando propiedades de la sumatoria es equivalente a:\n",
        "\n",
        ">$CT_i=\\sum_{j=1}^N (|x_i-a_j|)*W_j+ \\sum_{j=1}^N (|y_k-b_j|)*W_j$ \n",
        "\n",
        "Y dado que el objetivo es la minimización, se puede resolver:\n",
        "\n",
        "Minimizando en $x$\n",
        ">min{$\\sum_{j=1}^N (|x_i-a_j|)*W_j$} \n",
        "\n",
        "Minimizando en $y$\n",
        ">min{$\\sum_{j=1}^N (|y_k-b_j|)*W_j$} \n",
        "\n",
        "Convirtiendo el problema en dos problemas de minimización unidimensional, para lo que puede aplicarse (además de las técnicas computacionales o los métodos numéricos) la heurística <i><b>MEDIANA SIMPLE</b></i> por cada uno de los ejes de manera independiente.\n",
        "\n",
        "<i><b>Relación cuadrática costo-distancia con trayectoria rectilínea</b></i>\n",
        "\n",
        "La función de costos sería:\n",
        "\n",
        ">$CT_i=\\sum_{j=1}^N [ \\sqrt{(x_i-a_j)^2+(y_k-b_j)^2} ]^2*W_j$ \n",
        "\n",
        "El cuadrado de la distancia, anula la raiz cuadrada, quedando:\n",
        "\n",
        ">$CT_i=\\sum_{j=1}^N [(x_i-a_j)^2+(y_k-b_j)^2]*W_j$ \n",
        "\n",
        "y nuevamente aplicando propiedades de la sumatoria es equivalente a:\n",
        "\n",
        ">$CT_i=\\sum_{j=1}^N (x_i-a_j)^2*W_j+ \\sum_{j=1}^N (y_k-b_j)^2*W_j$ \n",
        "\n",
        "Lo cual, en el objetivo de minimización, de manera análoga al caso anterior equivale a:\n",
        "\n",
        "Minimizar en $x$\n",
        ">min{$\\sum_{j=1}^N (x_i-a_j)^2*W_j$} \n",
        "\n",
        "Minimizando en $y$\n",
        ">min{$\\sum_{j=1}^N (y_k-b_j)^2*W_j$} \n",
        "\n",
        "Similar al caso <i>lineal-rectangular</i>, la solución de uno de los ejes no depende del otro, por lo que se configura como dos problemas de minimización unidimensional, independiete por cada eje $x$, $y$, para lo cual se puede aplicar la solución matemática sencilla, derivando e igualando a cero (0), lo cual corresponde al método del <i><b>CENTROIDE</b></i> aplicado a cada coordenada.\n",
        "\n",
        "No obstante, y a manera de práctica computacional, es posible utilizar la misma estrategia de $búsqueda$ $exhaustiva$ que se definió en el caso unidimensional, considerando la búsqueda simultánea por ambos ejes, utilizando el mismo delta ($\\Delta$), lo que define la cantidad de puntos a \"probar\" para cada uno de ellos, dependiendo del \"$rango$\" generado por los parámetros de localización en $x$ y $y$ por los clientes."
      ]
    },
    {
      "cell_type": "markdown",
      "metadata": {
        "id": "NxyhMlBiV3o8"
      },
      "source": [
        "##<font color=\"blue\">ALGORITMO DE BÚSQUEDA EXHAUSTIVA O RADAR CASO BIDIMENSIONAL</font>\n"
      ]
    },
    {
      "cell_type": "markdown",
      "metadata": {
        "id": "70HzDMdrPV80"
      },
      "source": [
        "\n",
        "Para el caso de dos dimensiones, es posible definir un valor de $\\Delta$ diferente o igual para cada eje; el efecto se verá reflejado en la cantidad de datos (coordenadas) que se probaran en cada eje, lo que depende del rango y el $\\Delta$ de cada uno. \n",
        "\n",
        "En el siguiente algoritmo se puede modificar este parametro de manera independiente, para lo cual se solicita un $\\Delta_x$ y un $\\Delta_y$, además de los parámetros correspondientes a la localización de los clientes definiendo coordenadas en $x$ como el vecto $A$, y en $y$ como vector $B$, junto con la demanda $D_j$, el costo unitario $Cu_j$ y si se requiere, la ponderación o peso relativo de cada cliente $P_j$."
      ]
    },
    {
      "cell_type": "markdown",
      "metadata": {
        "id": "hf2t5xrCxHnu"
      },
      "source": [
        "### PARÁMETROS DEL PROBLEMA"
      ]
    },
    {
      "cell_type": "markdown",
      "metadata": {
        "id": "0nUVrxn7zvp9"
      },
      "source": [
        "<font color=\"GREEN\">PARÁMETROS DE LOS CLIENTES</FONT>"
      ]
    },
    {
      "cell_type": "code",
      "metadata": {
        "colab": {
          "base_uri": "https://localhost:8080/"
        },
        "id": "5Puy86f0Xe7l",
        "outputId": "a6acfaf9-8b46-4992-c574-65bf1763c8e8"
      },
      "source": [
        "#@title Digite los parámetros separados por coma (,) { run: \"auto\", display-mode: \"form\" }\n",
        "import re\n",
        "import numpy as np;\n",
        " \n",
        "#@title coordenadas en X\n",
        "aj = \"200, -100, 100, -200,-100\\\"\" #@param {type:\"string\"}\n",
        "Ax=[float(NK)for NK in re.findall(r'-?\\d+\\.?\\d*', aj)]\n",
        "a=np.array(Ax)\n",
        "bj = \"100, 200, 100, 150, -150\\\"\" #@param {type:\"string\"}\n",
        "Bx=[float(NK)for NK in re.findall(r'-?\\d+\\.?\\d*', bj)]\n",
        "b=np.array(Bx)\n",
        "#Demanda\n",
        "Dj = \"5, 4, 6, 4, 5\\\"\" #@param {type:\"string\"}\n",
        "Dx=[float(NK)for NK in re.findall(r'-?\\d+\\.?\\d*', Dj)]\n",
        "D=np.array(Dx)\n",
        "#Costo unitario\n",
        "Cuj = \"75000, 60000, 40000, 100000, 60000\\\"\" #@param {type:\"string\"}\n",
        "Cux=[float(NK)for NK in re.findall(r'-?\\d+\\.?\\d*', Cuj)]\n",
        "Cu=np.array(Cux)\n",
        "#Ponderación\n",
        "Pj = \"1, 1, 1, 1, 1\\\"\" #@param {type:\"string\"}\n",
        "Px=[float(NK)for NK in re.findall(r'-?\\d+\\.?\\d*', Pj)]\n",
        "P=np.array(Px)\n",
        "#Cálculo Peso W\n",
        "Wk=D*Cu*P\n",
        "print(\"aj=\",a)\n",
        "print(\"bj=\",b)\n",
        "print(\"Dj=\",D)\n",
        "print(\"Cuj=\",Cu)\n",
        "print(\"Pj=\",P)\n",
        "print(\"W=\",Wk)"
      ],
      "execution_count": 12,
      "outputs": [
        {
          "output_type": "stream",
          "name": "stdout",
          "text": [
            "aj= [ 200. -100.  100. -200. -100.]\n",
            "bj= [ 100.  200.  100.  150. -150.]\n",
            "Dj= [5. 4. 6. 4. 5.]\n",
            "Cuj= [ 75000.  60000.  40000. 100000.  60000.]\n",
            "Pj= [1. 1. 1. 1. 1.]\n",
            "W= [375000. 240000. 240000. 400000. 300000.]\n"
          ]
        }
      ]
    },
    {
      "cell_type": "markdown",
      "metadata": {
        "id": "MikKu7I2zlpS"
      },
      "source": [
        "<font color=\"GREEN\">PARÁMETROS DEL ALGORITMO</FONT>"
      ]
    },
    {
      "cell_type": "code",
      "metadata": {
        "colab": {
          "base_uri": "https://localhost:8080/"
        },
        "id": "GqnaRLj6zmTG",
        "outputId": "47562109-d088-4f6c-c462-103b2209fb2b"
      },
      "source": [
        "#@title Seleccionar Parámetros. {run: \"auto\", display-mode: \"form\",form-width: \"30%\"  }\n",
        "DELTA_X =  1#@param {type:\"number\"}\n",
        "print('Seleccionó Delta en X=', DELTA_X)\n",
        "DELTA_Y =  1#@param {type:\"number\"}\n",
        "print('Seleccionó Delta en Y=', DELTA_Y)\n",
        "Modelo = \"Lineal\" #@param [\"Lineal\", \"Cuadratico\"]\n",
        "print('Se resolvera considerando modelo ', Modelo)\n",
        "if Modelo==\"Lineal\":\n",
        "  MOD=1\n",
        "else: MOD=2\n",
        "Trayectoria = \"Rectilinea\" #@param [\"Rectilinea\", \"Rectangular\"]\n",
        "print('Se resolvera considerando trayectoria ', Trayectoria)\n",
        "if Trayectoria==\"Rectangular\":\n",
        "  Ty=1\n",
        "else: Ty=2"
      ],
      "execution_count": 13,
      "outputs": [
        {
          "output_type": "stream",
          "name": "stdout",
          "text": [
            "Seleccionó Delta en X= 1\n",
            "Seleccionó Delta en Y= 1\n",
            "Se resolvera considerando modelo  Lineal\n",
            "Se resolvera considerando trayectoria  Rectilinea\n"
          ]
        }
      ]
    },
    {
      "cell_type": "markdown",
      "metadata": {
        "id": "aQD-6lZK4cT4"
      },
      "source": [
        "<font color=\"GREEN\">ALGORITMO BUSQUEDA EXHAUSTIVA</FONT>"
      ]
    },
    {
      "cell_type": "code",
      "metadata": {
        "colab": {
          "base_uri": "https://localhost:8080/",
          "height": 530
        },
        "id": "7DSD2iwA9AGk",
        "outputId": "2abf543a-7d72-477f-c0a2-6f373f281258"
      },
      "source": [
        "amax=max(a)+DELTA_X\n",
        "amin=min(a)\n",
        "bmax=max(b)+DELTA_Y\n",
        "bmin=min(b)\n",
        "i=0\n",
        "Xi=np.arange(amin,amax,DELTA_X)\n",
        "Yj=np.arange(bmin,bmax,DELTA_Y)\n",
        "\n",
        "CTxy=np.zeros((len(Xi),len(Yj)))\n",
        "X,Y=np.meshgrid(Xi,Yj)\n",
        "X=np.transpose(X)\n",
        "Y=np.transpose(Y)\n",
        "i=0\n",
        "\n",
        "if MOD==1:\n",
        "  if Ty==1:\n",
        "    for x in Xi:\n",
        "      j=0\n",
        "      for y in Yj:\n",
        "         Ctpc=(abs(X[i,j]-a)+abs(Y[i,j]-b))*Wk\n",
        "         CTxy[i,j]=sum(Ctpc)\n",
        "         j+=1\n",
        "      i+=1\n",
        "    print(\"1,1\")\n",
        "  else:\n",
        "      for x in Xi:\n",
        "        j=0\n",
        "        for y in Yj:\n",
        "          Ctpc=(sqrt(((X[i,j]-a)**2)+((Y[i,j]-b)**2)))*Wk\n",
        "          CTxy[i,j]=sum(Ctpc)\n",
        "          j+=1\n",
        "        i+=1\n",
        "      print(\"1,2\")\n",
        "else: \n",
        "  if Ty==1:\n",
        "   for x in Xi:\n",
        "      j=0\n",
        "      for y in Yj:\n",
        "         Ctpc=((abs(X[i,j]-a)+abs(Y[i,j]-b))**2)*Wk\n",
        "         CTxy[i,j]=sum(Ctpc)\n",
        "         j+=1\n",
        "      i+=1\n",
        "   print(\"2,1\") \n",
        "  else:\n",
        "     for x in Xi:\n",
        "        j=0\n",
        "        for y in Yj:\n",
        "          Ctpc=(((X[i,j]-a)**2)+((Y[i,j]-b)**2))*Wk\n",
        "          CTxy[i,j]=sum(Ctpc)\n",
        "          j+=1\n",
        "        i+=1\n",
        "     print(\"2,2\") \n",
        "\n",
        "\n",
        "PosXo,PosYo=np.where(CTxy == np.amin(CTxy))\n",
        "Xo=Xi[PosXo[0]]\n",
        "Yo=Yj[PosYo[0]]\n",
        "CTo=np.amin(CTxy)\n",
        "print(\"Xo=\",Xo,\" Yo=\",Yo,\" CTo= \",CTo)\n",
        "\n",
        "ax = plt.axes(projection='3d')\n",
        "ax.plot_surface(X, Y, CTxy, rstride=1, cstride=1,\n",
        "                cmap='viridis', edgecolor='none')\n",
        "ax.set_title('Costo total');\n",
        "figure(2)\n",
        "fig=plt.plot(a,b,'o')\n",
        "for x in a:\n",
        "    axvline(x=x,linewidth=1, color='r')\n",
        "    \n",
        "for y in b:\n",
        "    axhline(y=y,linewidth=1, color='r')"
      ],
      "execution_count": 14,
      "outputs": [
        {
          "output_type": "stream",
          "name": "stdout",
          "text": [
            "1,2\n",
            "Xo= -26.0  Yo= 102.0  CTo=  295461138.7323732\n"
          ]
        },
        {
          "output_type": "display_data",
          "data": {
            "image/png": "[encoded data removed]",
            "text/plain": [
              "<Figure size 432x288 with 1 Axes>"
            ]
          },
          "metadata": {
            "needs_background": "light"
          }
        },
        {
          "output_type": "display_data",
          "data": {
            "image/png": "[encoded data removed]",
            "text/plain": [
              "<Figure size 432x288 with 1 Axes>"
            ]
          },
          "metadata": {
            "needs_background": "light"
          }
        }
      ]
    }
  ]
}